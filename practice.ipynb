{
 "cells": [
  {
   "cell_type": "markdown",
   "metadata": {},
   "source": [
    "#Lab 1. An Introduction to Pandas and Python"
   ]
  },
  {
   "cell_type": "code",
   "execution_count": 62,
   "metadata": {
    "collapsed": true
   },
   "outputs": [],
   "source": [
    "# The %... is an iPython thing, and is not part of the Python language.\n",
    "# In this case we're just telling the plotting library to draw things on\n",
    "# the notebook, instead of on a separate window.\n",
    "%matplotlib inline \n",
    "#this line above prepares IPython notebook for working with matplotlib\n",
    "\n",
    "# See all the \"as ...\" contructs? They're just aliasing the package names.\n",
    "# That way we can call methods like plt.plot() instead of matplotlib.pyplot.plot().\n",
    "\n",
    "import numpy as np # imports a fast numerical programming library\n",
    "import scipy as sp #imports stats functions, amongst other things\n",
    "import matplotlib as mpl # this actually imports matplotlib\n",
    "import matplotlib.cm as cm #allows us easy access to colormaps\n",
    "import matplotlib.pyplot as plt #sets up plotting under plt\n",
    "import pandas as pd #lets us handle data as dataframes\n",
    "from urllib.request import urlopen\n",
    "from bs4 import BeautifulSoup\n",
    "from lxml import html\n",
    "#sets up pandas table display\n",
    "pd.set_option('display.width', 500)\n",
    "pd.set_option('display.max_columns', 100)\n",
    "pd.set_option('display.notebook_repr_html', True)\n",
    "import seaborn as sns #sets up styles and gives us more plotting options"
   ]
  },
  {
   "cell_type": "code",
   "execution_count": 32,
   "metadata": {},
   "outputs": [
    {
     "name": "stdout",
     "output_type": "stream",
     "text": [
      "True\n"
     ]
    }
   ],
   "source": [
    "source = urlopen(\"http://pyladies.com\")\n",
    "html = source.read().decode(\"utf-8\")\n",
    "print ('python' in html.lower())\n",
    "#soup.prettify()"
   ]
  },
  {
   "cell_type": "code",
   "execution_count": 61,
   "metadata": {},
   "outputs": [
    {
     "name": "stderr",
     "output_type": "stream",
     "text": [
      "/Users/Sadeka/Applications/anaconda/lib/python3.6/site-packages/bs4/__init__.py:181: UserWarning: No parser was explicitly specified, so I'm using the best available HTML parser for this system (\"lxml\"). This usually isn't a problem, but if you run this code on another system, or in a different virtual environment, it may use a different parser and behave differently.\n",
      "\n",
      "The code that caused this warning is on line 193 of the file /Users/Sadeka/Applications/anaconda/lib/python3.6/runpy.py. To get rid of this warning, change code that looks like this:\n",
      "\n",
      " BeautifulSoup(YOUR_MARKUP})\n",
      "\n",
      "to this:\n",
      "\n",
      " BeautifulSoup(YOUR_MARKUP, \"lxml\")\n",
      "\n",
      "  markup_type=markup_type))\n"
     ]
    },
    {
     "data": {
      "text/plain": [
       "23"
      ]
     },
     "execution_count": 61,
     "metadata": {},
     "output_type": "execute_result"
    }
   ],
   "source": [
    "source = urlopen(\"http://python.org\")\n",
    "#source\n",
    "#print ('<img' in html)\n",
    "tree = BeautifulSoup(source)\n",
    "paras = tree.findAll('p')\n",
    "len(paras)\n",
    "#soup.prettify()\n",
    "#soup.body.find(\"img\")"
   ]
  },
  {
   "cell_type": "code",
   "execution_count": 76,
   "metadata": {},
   "outputs": [
    {
     "data": {
      "text/plain": [
       "['\\n\\n\\nCoach & HorsesRandwick\\n\\nSat 18:00 - 21:00\\n\\n$18 Half Rack of Ribs with Chips and Salad\\n\\n\\n\\n\\n\\n\\n\\n',\n",
       " '\\nThu 18:00 - 21:00\\n\\n$13 Schnitzel with Chips and Salad\\n\\n\\n\\n\\n\\n\\n\\n',\n",
       " '\\nSat 12:00 - 15:00\\n\\n$18 Half Rack of Ribs with Chips and Salad\\n\\n\\n\\n\\n\\n\\n\\n',\n",
       " '\\nThu 12:00 - 15:00\\n\\n$13 Schnitzel with Chips and Salad\\n\\n\\n\\n\\n\\n\\n\\n']"
      ]
     },
     "execution_count": 76,
     "metadata": {},
     "output_type": "execute_result"
    }
   ],
   "source": [
    "found_happy_hours = []\n",
    "source = urlopen(\"https://www.thehappiesthour.com/specials/sydney/\").read()\n",
    "tree = html.document_fromstring(source)\n",
    "happy_elements = tree.cssselect(\"table.table-venue tbody tr\")\n",
    "\n",
    "for s in happy_elements:\n",
    "    value = s.text_content()\n",
    "    ratings = len(s.cssselect('i.fi-star.size-16.font-orange'))\n",
    "    if (ratings >= 3) & (('Schnitzel' in value) | ('Rib' in value)):\n",
    "        found_happy_hours.append(value)\n",
    "    \n",
    "found_happy_hours"
   ]
  },
  {
   "cell_type": "code",
   "execution_count": 84,
   "metadata": {},
   "outputs": [
    {
     "data": {
      "text/plain": [
       "23"
      ]
     },
     "execution_count": 84,
     "metadata": {},
     "output_type": "execute_result"
    }
   ],
   "source": [
    "source = urlopen(\"http://python.org\").read()\n",
    "tree = html.document_fromstring(source)\n",
    "len(tree.cssselect(\"p\"))"
   ]
  },
  {
   "cell_type": "code",
   "execution_count": 102,
   "metadata": {},
   "outputs": [
    {
     "name": "stdout",
     "output_type": "stream",
     "text": [
      "[(<Element a at 0x11114b318>, 'href', 'http://blog.python.org', 0), (<Element a at 0x111ab5f98>, 'href', 'http://feedproxy.google.com/~r/PythonInsider/~3/ry7faTWPZiY/python-354rc1-and-python-347rc1-are-now.html', 0), (<Element a at 0x111abc5e8>, 'href', 'http://feedproxy.google.com/~r/PythonInsider/~3/xgmAIcE1Wes/python-362-is-now-available.html', 0), (<Element a at 0x111aae228>, 'href', 'http://feedproxy.google.com/~r/PythonInsider/~3/u1jESRAmGy4/python-362rc2-is-now-available-for.html', 0), (<Element a at 0x111abc4f8>, 'href', 'http://feedproxy.google.com/~r/PythonInsider/~3/baNrM_WAwNY/python-362rc1-is-now-available-for.html', 0), (<Element a at 0x111abc458>, 'href', 'http://feedproxy.google.com/~r/PythonInsider/~3/C-xfWJKP0-A/python-361-is-now-available.html', 0)]\n",
      "[<Element form at 0x111aaec78>, <Element form at 0x111aaec78>, <Element form at 0x111aaec78>, <Element form at 0x111aaec78>, <Element form at 0x111aaec78>, <Element form at 0x111aaec78>, <Element form at 0x111aaec78>, <Element form at 0x111aaec78>, <Element form at 0x111aaec78>, <Element form at 0x111aaec78>, <Element form at 0x111aaec78>, <Element form at 0x111aaec78>, <Element form at 0x111aaec78>, <Element form at 0x111aaec78>, <Element form at 0x111aaec78>, <Element form at 0x111aaec78>, <Element form at 0x111aaec78>, <Element form at 0x111aaec78>, <Element form at 0x111aaec78>, <Element form at 0x111aaec78>, <Element form at 0x111aaec78>, <Element form at 0x111aaec78>, <Element form at 0x111aaec78>, <Element form at 0x111aaec78>, <Element form at 0x111aaec78>, <Element form at 0x111aaec78>, <Element form at 0x111aaec78>, <Element form at 0x111aaec78>, <Element form at 0x111aaec78>, <Element form at 0x111aaec78>, <Element form at 0x111aaec78>, <Element form at 0x111aaec78>, <Element form at 0x111aaec78>, <Element form at 0x111aaec78>, <Element form at 0x111aaec78>, <Element form at 0x111aaec78>, <Element form at 0x111aaec78>, <Element form at 0x111aaec78>, <Element form at 0x111aaec78>, <Element form at 0x111aaec78>]\n",
      "[(<Element a at 0x111ab5f98>, 'href', '/events/calendars/', 0), (<Element a at 0x111abc5e8>, 'href', '/events/python-events/489/', 0), (<Element a at 0x111abc4f8>, 'href', '/events/python-user-group/559/', 0), (<Element a at 0x111abc458>, 'href', '/events/python-events/478/', 0), (<Element a at 0x111abc368>, 'href', '/events/python-events/545/', 0), (<Element a at 0x111abc778>, 'href', '/events/python-events/497/', 0)]\n",
      "[<Element form at 0x111aaec78>, <Element form at 0x111aaec78>, <Element form at 0x111aaec78>, <Element form at 0x111aaec78>, <Element form at 0x111aaec78>, <Element form at 0x111aaec78>, <Element form at 0x111aaec78>, <Element form at 0x111aaec78>, <Element form at 0x111aaec78>, <Element form at 0x111aaec78>, <Element form at 0x111aaec78>, <Element form at 0x111aaec78>, <Element form at 0x111aaec78>, <Element form at 0x111aaec78>, <Element form at 0x111aaec78>, <Element form at 0x111aaec78>, <Element form at 0x111aaec78>, <Element form at 0x111aaec78>, <Element form at 0x111aaec78>, <Element form at 0x111aaec78>, <Element form at 0x111aaec78>, <Element form at 0x111aaec78>, <Element form at 0x111aaec78>, <Element form at 0x111aaec78>, <Element form at 0x111aaec78>, <Element form at 0x111aaec78>, <Element form at 0x111aaec78>, <Element form at 0x111aaec78>, <Element form at 0x111aaec78>, <Element form at 0x111aaec78>, <Element form at 0x111aaec78>, <Element form at 0x111aaec78>, <Element form at 0x111aaec78>, <Element form at 0x111aaec78>, <Element form at 0x111aaec78>, <Element form at 0x111aaec78>, <Element form at 0x111aaec78>, <Element form at 0x111aaec78>, <Element form at 0x111aaec78>, <Element form at 0x111aaec78>]\n",
      "[(<Element a at 0x111ab5f98>, 'href', '/success-stories/', 0), (<Element a at 0x111abc4f8>, 'href', '/success-stories/industrial-light-magic-runs-python/', 0), (<Element a at 0x111abc6d8>, 'href', '/success-stories/industrial-light-magic-runs-python/', 0)]\n",
      "[<Element form at 0x111aaec78>, <Element form at 0x111aaec78>, <Element form at 0x111aaec78>, <Element form at 0x111aaec78>, <Element form at 0x111aaec78>, <Element form at 0x111aaec78>, <Element form at 0x111aaec78>, <Element form at 0x111aaec78>, <Element form at 0x111aaec78>, <Element form at 0x111aaec78>, <Element form at 0x111aaec78>, <Element form at 0x111aaec78>, <Element form at 0x111aaec78>, <Element form at 0x111aaec78>, <Element form at 0x111aaec78>, <Element form at 0x111aaec78>, <Element form at 0x111aaec78>, <Element form at 0x111aaec78>, <Element form at 0x111aaec78>, <Element form at 0x111aaec78>, <Element form at 0x111aaec78>, <Element form at 0x111aaec78>, <Element form at 0x111aaec78>, <Element form at 0x111aaec78>, <Element form at 0x111aaec78>, <Element form at 0x111aaec78>, <Element form at 0x111aaec78>, <Element form at 0x111aaec78>, <Element form at 0x111aaec78>, <Element form at 0x111aaec78>, <Element form at 0x111aaec78>, <Element form at 0x111aaec78>, <Element form at 0x111aaec78>, <Element form at 0x111aaec78>, <Element form at 0x111aaec78>, <Element form at 0x111aaec78>, <Element form at 0x111aaec78>, <Element form at 0x111aaec78>, <Element form at 0x111aaec78>, <Element form at 0x111aaec78>]\n",
      "[(<Element a at 0x111ab5f98>, 'href', '/about/apps', 0), (<Element a at 0x111abc4f8>, 'href', 'http://www.djangoproject.com/', 0), (<Element a at 0x111abc6d8>, 'href', 'http://www.pylonsproject.org/', 0), (<Element a at 0x111abc5e8>, 'href', 'http://bottlepy.org', 0), (<Element a at 0x111abc688>, 'href', 'http://tornadoweb.org', 0), (<Element a at 0x111abc368>, 'href', 'http://flask.pocoo.org/', 0), (<Element a at 0x111abc868>, 'href', 'http://www.web2py.com/', 0), (<Element a at 0x111abc778>, 'href', 'http://wiki.python.org/moin/TkInter', 0), (<Element a at 0x111abc908>, 'href', 'https://wiki.gnome.org/Projects/PyGObject', 0), (<Element a at 0x111abc818>, 'href', 'http://www.riverbankcomputing.co.uk/software/pyqt/intro', 0), (<Element a at 0x111abc9a8>, 'href', 'https://wiki.qt.io/PySide', 0), (<Element a at 0x111abca98>, 'href', 'https://kivy.org/', 0), (<Element a at 0x111abcb88>, 'href', 'http://www.wxpython.org/', 0), (<Element a at 0x111abcb38>, 'href', 'http://www.scipy.org', 0), (<Element a at 0x111abccc8>, 'href', 'http://pandas.pydata.org/', 0), (<Element a at 0x111abcd68>, 'href', 'http://ipython.org', 0), (<Element a at 0x111abce58>, 'href', 'http://buildbot.net/', 0), (<Element a at 0x111abcef8>, 'href', 'http://trac.edgewall.org/', 0), (<Element a at 0x111abcf98>, 'href', 'http://roundup.sourceforge.net/', 0), (<Element a at 0x111abe0e8>, 'href', 'http://www.ansible.com', 0), (<Element a at 0x111abe1d8>, 'href', 'http://www.saltstack.com', 0), (<Element a at 0x111abc408>, 'href', 'https://www.openstack.org', 0)]\n",
      "[<Element form at 0x111aaec78>, <Element form at 0x111aaec78>, <Element form at 0x111aaec78>, <Element form at 0x111aaec78>, <Element form at 0x111aaec78>, <Element form at 0x111aaec78>, <Element form at 0x111aaec78>, <Element form at 0x111aaec78>, <Element form at 0x111aaec78>, <Element form at 0x111aaec78>, <Element form at 0x111aaec78>, <Element form at 0x111aaec78>, <Element form at 0x111aaec78>, <Element form at 0x111aaec78>, <Element form at 0x111aaec78>, <Element form at 0x111aaec78>, <Element form at 0x111aaec78>, <Element form at 0x111aaec78>, <Element form at 0x111aaec78>, <Element form at 0x111aaec78>, <Element form at 0x111aaec78>, <Element form at 0x111aaec78>, <Element form at 0x111aaec78>, <Element form at 0x111aaec78>, <Element form at 0x111aaec78>, <Element form at 0x111aaec78>, <Element form at 0x111aaec78>, <Element form at 0x111aaec78>, <Element form at 0x111aaec78>, <Element form at 0x111aaec78>, <Element form at 0x111aaec78>, <Element form at 0x111aaec78>, <Element form at 0x111aaec78>, <Element form at 0x111aaec78>, <Element form at 0x111aaec78>, <Element form at 0x111aaec78>, <Element form at 0x111aaec78>, <Element form at 0x111aaec78>, <Element form at 0x111aaec78>, <Element form at 0x111aaec78>]\n"
     ]
    }
   ],
   "source": [
    "for div in tree.cssselect(\"div.shrubbery\"):\n",
    "    #print (div.text_content())\n",
    "    #print (_*40)\n",
    "    print ([l for l in div.iterlinks()])\n",
    "    print (_*40)"
   ]
  },
  {
   "cell_type": "code",
   "execution_count": 112,
   "metadata": {},
   "outputs": [
    {
     "name": "stdout",
     "output_type": "stream",
     "text": [
      "[\"# Python 3: Fibonacci series up to n\\r\\n>>> def fib(n):\\r\\n>>>     a, b = 0, 1\\r\\n>>>     while a < n:\\r\\n>>>         print(a, end=' ')\\r\\n>>>         a, b = b, a+b\\r\\n>>>     print()\\r\\n>>> fib(1000)\\r\\n0 1 1 2 3 5 8 13 21 34 55 89 144 233 377 610 987\", \"# Python 3: List comprehensions\\r\\n>>> fruits = ['Banana', 'Apple', 'Lime']\\r\\n>>> loud_fruits = [fruit.upper() for fruit in fruits]\\r\\n>>> print(loud_fruits)\\r\\n['BANANA', 'APPLE', 'LIME']\\r\\n\\r\\n# List and the enumerate function\\r\\n>>> list(enumerate(fruits))\\r\\n[(0, 'Banana'), (1, 'Apple'), (2, 'Lime')]\", '# Python 3: Simple arithmetic\\r\\n>>> 1 / 2\\r\\n0.5\\r\\n>>> 2 ** 3\\r\\n8\\r\\n>>> 17 / 3  # classic division returns a float\\r\\n5.666666666666667\\r\\n>>> 17 // 3  # floor division\\r\\n5', '+', '-', '*', '/', '()', '# Python 3: Simple output (with Unicode)\\r\\n>>> print(\"Hello, I\\'m Python!\")\\r\\nHello, I\\'m Python!\\r\\n\\r\\n# Input, assignment\\r\\n>>> name = input(\\'What is your name?\\\\n\\')\\r\\n>>> print(\\'Hi, %s.\\' % name)\\r\\nWhat is your name?\\r\\nPython\\r\\nHi, Python.', \"# For loop on a list\\r\\n>>> numbers = [2, 4, 6, 8]\\r\\n>>> product = 1\\r\\n>>> for number in numbers:\\r\\n...    product = product * number\\r\\n... \\r\\n>>> print('The product is:', product)\\r\\nThe product is: 384\", 'if', 'for', 'while', 'range']\n"
     ]
    }
   ],
   "source": [
    "print ([code.text_content() for code in tree.cssselect(\"code\")])\n",
    "    "
   ]
  },
  {
   "cell_type": "code",
   "execution_count": 97,
   "metadata": {},
   "outputs": [
    {
     "data": {
      "text/plain": [
       "[<Element form at 0x111aaec78>]"
      ]
     },
     "execution_count": 97,
     "metadata": {},
     "output_type": "execute_result"
    }
   ],
   "source": [
    "tree.cssselect(\"form\")"
   ]
  },
  {
   "cell_type": "code",
   "execution_count": 104,
   "metadata": {},
   "outputs": [
    {
     "data": {
      "text/plain": [
       "[<Element form at 0x111aaec78>]"
      ]
     },
     "execution_count": 104,
     "metadata": {},
     "output_type": "execute_result"
    }
   ],
   "source": [
    "tree.forms"
   ]
  },
  {
   "cell_type": "code",
   "execution_count": 1,
   "metadata": {},
   "outputs": [],
   "source": [
    "%run xpath_intro.py"
   ]
  },
  {
   "cell_type": "code",
   "execution_count": 2,
   "metadata": {},
   "outputs": [
    {
     "data": {
      "text/plain": [
       "<Element html at 0x1097c4188>"
      ]
     },
     "execution_count": 2,
     "metadata": {},
     "output_type": "execute_result"
    }
   ],
   "source": [
    "simple_tree"
   ]
  },
  {
   "cell_type": "code",
   "execution_count": 12,
   "metadata": {},
   "outputs": [
    {
     "data": {
      "text/plain": [
       "['Foo', 'Bar', 'Boo', 'Far']"
      ]
     },
     "execution_count": 12,
     "metadata": {},
     "output_type": "execute_result"
    }
   ],
   "source": [
    "simple_tree.xpath('//li//text()')"
   ]
  },
  {
   "cell_type": "code",
   "execution_count": 43,
   "metadata": {},
   "outputs": [
    {
     "data": {
      "text/plain": [
       "['http://www.w3.org/1999/xhtml',\n",
       " 'en',\n",
       " 'en',\n",
       " 'container',\n",
       " 'content',\n",
       " 'clearfix',\n",
       " 'header',\n",
       " 'nav',\n",
       " 'navblock',\n",
       " 'navblock',\n",
       " 'maincontent',\n",
       " 'contentblock',\n",
       " 'contentblock']"
      ]
     },
     "execution_count": 43,
     "metadata": {},
     "output_type": "execute_result"
    }
   ],
   "source": [
    "simple_tree.xpath('//@*')"
   ]
  },
  {
   "cell_type": "code",
   "execution_count": 35,
   "metadata": {},
   "outputs": [
    {
     "data": {
      "text/plain": [
       "[]"
      ]
     },
     "execution_count": 35,
     "metadata": {},
     "output_type": "execute_result"
    }
   ],
   "source": [
    "simple_tree.xpath('//a')"
   ]
  },
  {
   "cell_type": "code",
   "execution_count": 44,
   "metadata": {},
   "outputs": [
    {
     "data": {
      "text/plain": [
       "[<Element style at 0x10a1bc138>, <Element style at 0x10a1e7368>]"
      ]
     },
     "execution_count": 44,
     "metadata": {},
     "output_type": "execute_result"
    }
   ],
   "source": [
    "simple_tree.xpath('//style')"
   ]
  },
  {
   "cell_type": "code",
   "execution_count": 45,
   "metadata": {},
   "outputs": [
    {
     "data": {
      "text/plain": [
       "[<Element style at 0x10a1bc138>]"
      ]
     },
     "execution_count": 45,
     "metadata": {},
     "output_type": "execute_result"
    }
   ],
   "source": [
    "simple_tree.xpath('//head/style')"
   ]
  },
  {
   "cell_type": "code",
   "execution_count": 46,
   "metadata": {},
   "outputs": [
    {
     "data": {
      "text/plain": [
       "[<Element div at 0x10a1c4688>, <Element div at 0x10a1c46d8>]"
      ]
     },
     "execution_count": 46,
     "metadata": {},
     "output_type": "execute_result"
    }
   ],
   "source": [
    "simple_tree.xpath('//div[@class=\"contentblock\"]')"
   ]
  },
  {
   "cell_type": "code",
   "execution_count": 47,
   "metadata": {},
   "outputs": [
    {
     "data": {
      "text/plain": [
       "True"
      ]
     },
     "execution_count": 47,
     "metadata": {},
     "output_type": "execute_result"
    }
   ],
   "source": [
    "simple_tree.xpath('//div/@class=\"contentblock\"')"
   ]
  },
  {
   "cell_type": "code",
   "execution_count": 48,
   "metadata": {
    "scrolled": true
   },
   "outputs": [
    {
     "ename": "ModuleNotFoundError",
     "evalue": "No module named 'selenium'",
     "output_type": "error",
     "traceback": [
      "\u001b[0;31m---------------------------------------------------------------------------\u001b[0m",
      "\u001b[0;31mModuleNotFoundError\u001b[0m                       Traceback (most recent call last)",
      "\u001b[0;32m/Users/Sadeka/Mine/cs109/kjam/python-web-scraping-tutorial/start_selenium.py\u001b[0m in \u001b[0;36m<module>\u001b[0;34m()\u001b[0m\n\u001b[0;32m----> 1\u001b[0;31m \u001b[0;32mfrom\u001b[0m \u001b[0mselenium\u001b[0m \u001b[0;32mimport\u001b[0m \u001b[0mwebdriver\u001b[0m\u001b[0;34m\u001b[0m\u001b[0m\n\u001b[0m\u001b[1;32m      2\u001b[0m \u001b[0;34m\u001b[0m\u001b[0m\n\u001b[1;32m      3\u001b[0m \u001b[0mbrowser\u001b[0m \u001b[0;34m=\u001b[0m \u001b[0mwebdriver\u001b[0m\u001b[0;34m.\u001b[0m\u001b[0mFirefox\u001b[0m\u001b[0;34m(\u001b[0m\u001b[0;34m)\u001b[0m\u001b[0;34m\u001b[0m\u001b[0m\n",
      "\u001b[0;31mModuleNotFoundError\u001b[0m: No module named 'selenium'"
     ]
    }
   ],
   "source": [
    "%run start_selenium.py"
   ]
  },
  {
   "cell_type": "code",
   "execution_count": null,
   "metadata": {
    "collapsed": true
   },
   "outputs": [],
   "source": []
  }
 ],
 "metadata": {
  "kernelspec": {
   "display_name": "Python 3",
   "language": "python",
   "name": "python3"
  },
  "language_info": {
   "codemirror_mode": {
    "name": "ipython",
    "version": 3
   },
   "file_extension": ".py",
   "mimetype": "text/x-python",
   "name": "python",
   "nbconvert_exporter": "python",
   "pygments_lexer": "ipython3",
   "version": "3.6.1"
  }
 },
 "nbformat": 4,
 "nbformat_minor": 1
}
